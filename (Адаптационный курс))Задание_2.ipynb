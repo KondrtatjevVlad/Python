{
 "cells": [
  {
   "cell_type": "markdown",
   "id": "76f21343",
   "metadata": {},
   "source": [
    "## Задание 1"
   ]
  },
  {
   "cell_type": "markdown",
   "id": "b55d6507",
   "metadata": {},
   "source": [
    "Дана переменная, в которой хранится слово из латинских букв. Напишите код,\n",
    "который выводит на экран:\n",
    "* Среднюю букву, если число букв в слове нечётное;\n",
    "* 2 средних буквы если число слов нечетное;"
   ]
  },
  {
   "cell_type": "code",
   "execution_count": 8,
   "id": "81941068",
   "metadata": {},
   "outputs": [
    {
     "name": "stdout",
     "output_type": "stream",
     "text": [
      "l\n"
     ]
    }
   ],
   "source": [
    "word = 'shalash'\n",
    "\n",
    "# Проверяем длину слова\n",
    "length = len(word)\n",
    "\n",
    "# Если длина нечётная — выводим среднюю букву\n",
    "if length % 2 != 0:\n",
    "    middle = word[length // 2]\n",
    "else:\n",
    "    # Если чётная — выводим две средние буквы\n",
    "    middle = word[length // 2 - 1:length // 2 + 1]\n",
    "\n",
    "print(middle)"
   ]
  },
  {
   "cell_type": "markdown",
   "id": "eb27be33",
   "metadata": {},
   "source": [
    "## Задание 2 "
   ]
  },
  {
   "cell_type": "markdown",
   "id": "ea3aa4bf",
   "metadata": {},
   "source": [
    "Вы делаете MVP (минимально жизнеспособный продукт) dating-сервиса.\n",
    "У вас есть список юношей и девушек.\n",
    "Выдвигаем гипотезу: лучшие рекомендации получатся, если просто отсортировать\n",
    "имена по алфавиту и познакомить людей с одинаковыми индексами после\n",
    "сортировки. Но вы не будете никого знакомить, если кто-то может остаться без\n",
    "пары"
   ]
  },
  {
   "cell_type": "code",
   "execution_count": 12,
   "id": "aff72f5a",
   "metadata": {},
   "outputs": [],
   "source": [
    "# Проверяем, одинаковое ли количество юношей и девушек\n",
    "def make_pairs(boys, girls):\n",
    "    if len(boys) != len(girls):\n",
    "        print(\"Внимание, кто-то может остаться без пары\")\n",
    "    else:\n",
    "        # Сортируем списки по алфавиту\n",
    "        boys_sorted = sorted(boys)\n",
    "        girls_sorted = sorted(girls)\n",
    "\n",
    "        print(\"Идеальные пары:\")\n",
    "        # Формируем пары по индексам\n",
    "        for boy, girl in zip(boys_sorted, girls_sorted):\n",
    "            print(f\"{boy} и {girl}\")"
   ]
  },
  {
   "cell_type": "code",
   "execution_count": 13,
   "id": "23390064",
   "metadata": {},
   "outputs": [
    {
     "name": "stdout",
     "output_type": "stream",
     "text": [
      "Идеальные пары:\n",
      "Alex и Emma\n",
      "Arthur и Kate\n",
      "John и Kira\n",
      "Peter и Liza\n",
      "Richard и Trisha\n"
     ]
    }
   ],
   "source": [
    "boys = ['Peter', 'Alex', 'John', 'Arthur', 'Richard']\n",
    "girls = ['Kate', 'Liza', 'Kira', 'Emma', 'Trisha']\n",
    "\n",
    "make_pairs(boys, girls)"
   ]
  },
  {
   "cell_type": "code",
   "execution_count": 16,
   "id": "f21ddab5",
   "metadata": {},
   "outputs": [
    {
     "name": "stdout",
     "output_type": "stream",
     "text": [
      "Внимание, кто-то может остаться без пары\n"
     ]
    }
   ],
   "source": [
    "boys = ['Peter', 'Alex', 'John', 'Arthur', 'Richard', 'Michael']\n",
    "girls = ['Kate', 'Liza', 'Kira', 'Emma', 'Trisha']\n",
    "\n",
    "make_pairs(boys, girls)"
   ]
  }
 ],
 "metadata": {
  "kernelspec": {
   "display_name": "Python 3 (ipykernel)",
   "language": "python",
   "name": "python3"
  },
  "language_info": {
   "codemirror_mode": {
    "name": "ipython",
    "version": 3
   },
   "file_extension": ".py",
   "mimetype": "text/x-python",
   "name": "python",
   "nbconvert_exporter": "python",
   "pygments_lexer": "ipython3",
   "version": "3.10.9"
  }
 },
 "nbformat": 4,
 "nbformat_minor": 5
}
