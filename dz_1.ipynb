{
 "cells": [
  {
   "cell_type": "markdown",
   "id": "86be47cb",
   "metadata": {},
   "source": [
    "## Задание 1"
   ]
  },
  {
   "cell_type": "markdown",
   "id": "7364563c",
   "metadata": {},
   "source": [
    "Переведите содержимое файла purchase_log.txt в словарь purchases вида:\n",
    "{'1840e0b9d4': 'Продукты', ...}"
   ]
  },
  {
   "cell_type": "code",
   "execution_count": null,
   "id": "4b4cf3b7",
   "metadata": {},
   "outputs": [],
   "source": [
    "import json"
   ]
  },
  {
   "cell_type": "code",
   "execution_count": 114,
   "id": "2529546c",
   "metadata": {},
   "outputs": [],
   "source": [
    "# создание словаря\n",
    "purchases = {}"
   ]
  },
  {
   "cell_type": "code",
   "execution_count": 116,
   "id": "058e7c95",
   "metadata": {},
   "outputs": [],
   "source": [
    "# Читаем purchase_log.txt и формируем словарь purchases пропуская пустые и некорректные строки\n",
    "with open('purchase_log.txt', 'r', encoding='utf-8') as f:\n",
    "    for line in f:\n",
    "        line = line.strip().lstrip('\\ufeff')  \n",
    "        if not line:\n",
    "            continue\n",
    "        try:\n",
    "            data = json.loads(line)\n",
    "            purchases[data['user_id']] = data['category']\n",
    "        except (json.JSONDecodeError, KeyError):\n",
    "            continue"
   ]
  },
  {
   "cell_type": "code",
   "execution_count": 117,
   "id": "6aa01a7a",
   "metadata": {},
   "outputs": [
    {
     "name": "stdout",
     "output_type": "stream",
     "text": [
      "user_id 'category'\n",
      "1840e0b9d4 'Продукты'\n",
      "4e4f90fcfb 'Электроника'\n",
      "afea8d72fc 'Электроника'\n",
      "373a6055fe 'Бытовая техника'\n"
     ]
    }
   ],
   "source": [
    "# Вывод первых строк\n",
    "for i, (user_id, category) in enumerate(purchases.items()):\n",
    "    print(f\"{user_id} '{category}'\")\n",
    "    if i == 4: \n",
    "        break"
   ]
  },
  {
   "cell_type": "code",
   "execution_count": 118,
   "id": "7cbff968",
   "metadata": {},
   "outputs": [
    {
     "name": "stdout",
     "output_type": "stream",
     "text": [
      "6948899ab3 'Продукты'\n",
      "610a548d34 'Электроника'\n",
      "cb9fd67953 'Бытовая техника'\n",
      "df85c3cd61 'Бытовая техника'\n"
     ]
    }
   ],
   "source": [
    "# Проверка: вывод последних строк\n",
    "for user_id, category in list(purchases.items())[-4:]:\n",
    "    print(f\"{user_id} '{category}'\")"
   ]
  },
  {
   "cell_type": "markdown",
   "id": "3e3e57b4",
   "metadata": {},
   "source": [
    "## Задание 2 "
   ]
  },
  {
   "cell_type": "markdown",
   "id": "47a620f0",
   "metadata": {},
   "source": [
    "Для каждого user_id в файле visit_log.csv определите третий столбец с категорией покупки. Если покупка была, сам файл visit_log.csv изменять не надо.\n",
    "Запишите в файл funnel.csv визиты из файла visit_log.csv, в которых были покупки с указанием категории.\n"
   ]
  },
  {
   "cell_type": "code",
   "execution_count": 98,
   "id": "e586c19a",
   "metadata": {},
   "outputs": [],
   "source": [
    "import csv"
   ]
  },
  {
   "cell_type": "code",
   "execution_count": 119,
   "id": "0e86e349",
   "metadata": {},
   "outputs": [],
   "source": [
    "# создание нового словаря\n",
    "purchases_1 = {}"
   ]
  },
  {
   "cell_type": "code",
   "execution_count": 120,
   "id": "2932b582",
   "metadata": {},
   "outputs": [],
   "source": [
    "#Чтение purchase_log.txt в словарь\n",
    "with open('purchase_log.txt', 'r', encoding='utf-8') as f:\n",
    "    for line in f:\n",
    "        line = line.strip().lstrip('\\ufeff')\n",
    "        if not line:\n",
    "            continue\n",
    "        try:\n",
    "            data = json.loads(line)\n",
    "            purchases_1[data['user_id']] = data['category']\n",
    "        except (json.JSONDecodeError, KeyError):\n",
    "            continue"
   ]
  },
  {
   "cell_type": "code",
   "execution_count": 121,
   "id": "0d9360e4",
   "metadata": {},
   "outputs": [],
   "source": [
    "# построчная обработка visit_log.csv\n",
    "with open('visit_log.csv', 'r', encoding='utf-8') as f_in, \\\n",
    "     open('funnel.csv', 'w', encoding='utf-8', newline='') as f_out:\n",
    "    \n",
    "    reader = csv.reader(f_in, delimiter=',')\n",
    "    writer = csv.writer(f_out)\n",
    "    \n",
    "    writer.writerow(['user_id', 'source', 'category'])\n",
    "    \n",
    "    next(reader) \n",
    "    for row in reader:\n",
    "        if not row:\n",
    "            continue\n",
    "        user_id = row[0]\n",
    "        source = row[1] if len(row) > 1 else ''\n",
    "        \n",
    "        if user_id in purchases_1:\n",
    "            writer.writerow([user_id, source, purchases_1[user_id]])"
   ]
  },
  {
   "cell_type": "code",
   "execution_count": 122,
   "id": "393c23b4",
   "metadata": {},
   "outputs": [
    {
     "name": "stdout",
     "output_type": "stream",
     "text": [
      "user_id,source,category\n",
      "1840e0b9d4,other,Продукты\n",
      "4e4f90fcfb,context,Электроника\n",
      "afea8d72fc,other,Электроника\n",
      "2824221f38,email,Продукты\n",
      "373a6055fe,other,Бытовая техника\n",
      "9b2ab046f3,other,Электроника\n",
      "9f39d307c3,context,Электроника\n",
      "44edeffc91,context,Продукты\n",
      "704474fa2d,other,Продукты\n"
     ]
    }
   ],
   "source": [
    "# проверка записи данных в funnel и вывод первых 10 строк\n",
    "with open('funnel.csv', 'r', encoding='utf-8') as f:\n",
    "    for i, line in enumerate(f):\n",
    "        print(line.strip())\n",
    "        if i == 9:  \n",
    "            break"
   ]
  }
 ],
 "metadata": {
  "kernelspec": {
   "display_name": "Python 3 (ipykernel)",
   "language": "python",
   "name": "python3"
  },
  "language_info": {
   "codemirror_mode": {
    "name": "ipython",
    "version": 3
   },
   "file_extension": ".py",
   "mimetype": "text/x-python",
   "name": "python",
   "nbconvert_exporter": "python",
   "pygments_lexer": "ipython3",
   "version": "3.10.9"
  }
 },
 "nbformat": 4,
 "nbformat_minor": 5
}
