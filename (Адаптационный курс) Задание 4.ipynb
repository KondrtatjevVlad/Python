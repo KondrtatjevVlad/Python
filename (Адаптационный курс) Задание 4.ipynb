{
 "cells": [
  {
   "cell_type": "markdown",
   "id": "f90fec1e",
   "metadata": {},
   "source": [
    "# Задание 1"
   ]
  },
  {
   "cell_type": "markdown",
   "id": "b6d41500",
   "metadata": {},
   "source": [
    "Пользователь по команде «p» может узнать владельца документа по его номеру.\n",
    "Пример работы программы:\n",
    "Введите команду:\n",
    "p\n",
    "Введите номер документа:\n",
    "10006\n",
    "Результат:\n",
    "Владелец документа: Аристарх Павлов"
   ]
  },
  {
   "cell_type": "code",
   "execution_count": 4,
   "id": "90097f62",
   "metadata": {},
   "outputs": [],
   "source": [
    "documents = [\n",
    "    {'type': 'passport', 'number': '2207 876234', 'name': 'Василий Гупкин'},\n",
    "    {'type': 'invoice', 'number': '11-2', 'name': 'Геннадий Покемонов'},\n",
    "    {'type': 'insurance', 'number': '10006', 'name': 'Аристарх Павлов'}\n",
    "]"
   ]
  },
  {
   "cell_type": "code",
   "execution_count": 5,
   "id": "e0750098",
   "metadata": {},
   "outputs": [],
   "source": [
    "directories = {\n",
    "    '1': ['2207 876234', '11-2'],\n",
    "    '2': ['10006'],\n",
    "    '3': []\n",
    "}"
   ]
  },
  {
   "cell_type": "code",
   "execution_count": 6,
   "id": "55461f42",
   "metadata": {},
   "outputs": [],
   "source": [
    "def get_name_by_document(docs, doc_number):\n",
    "    \"\"\"Возвращает имя владельца документа по номеру.\"\"\"\n",
    "    for doc in docs:\n",
    "        if doc['number'] == doc_number:\n",
    "            return doc['name']\n",
    "    return None"
   ]
  },
  {
   "cell_type": "code",
   "execution_count": 7,
   "id": "07602aa6",
   "metadata": {},
   "outputs": [],
   "source": [
    "def get_shelf_by_document(dirs, doc_number):\n",
    "    \"\"\"Возвращает номер полки по номеру документа.\"\"\"\n",
    "    for shelf, docs in dirs.items():\n",
    "        if doc_number in docs:\n",
    "            return shelf\n",
    "    return None"
   ]
  },
  {
   "cell_type": "code",
   "execution_count": 8,
   "id": "6c7a1256",
   "metadata": {},
   "outputs": [],
   "source": [
    "def list_documents(docs):\n",
    "    \"\"\"Выводит список всех документов.\"\"\"\n",
    "    print(\"\\nСписок всех документов:\")\n",
    "    for doc in docs:\n",
    "        print(f\"{doc['type']} \\\"{doc['number']}\\\" \\\"{doc['name']}\\\"\")"
   ]
  },
  {
   "cell_type": "code",
   "execution_count": 9,
   "id": "972a3464",
   "metadata": {},
   "outputs": [],
   "source": [
    "def add_document(docs, dirs, doc_type, doc_number, name, shelf):\n",
    "    \"\"\"Добавляет новый документ на указанную полку.\"\"\"\n",
    "    if shelf not in dirs:\n",
    "        print(f\"Ошибка: Полки {shelf} не существует. Добавьте полку командой 'as'.\")\n",
    "        return\n",
    "    docs.append({'type': doc_type, 'number': doc_number, 'name': name})\n",
    "    dirs[shelf].append(doc_number)\n",
    "    print(\"Документ успешно добавлен.\")"
   ]
  },
  {
   "cell_type": "code",
   "execution_count": 10,
   "id": "fec2a9aa",
   "metadata": {},
   "outputs": [],
   "source": [
    "def delete_document(docs, dirs, doc_number):\n",
    "    \"\"\"Удаляет документ по номеру.\"\"\"\n",
    "    shelf = get_shelf_by_document(dirs, doc_number)\n",
    "    if not shelf:\n",
    "        print(\"Документ не найден.\")\n",
    "        return\n",
    "    dirs[shelf].remove(doc_number)\n",
    "    for doc in docs:\n",
    "        if doc['number'] == doc_number:\n",
    "            docs.remove(doc)\n",
    "            break\n",
    "    print(\"Документ успешно удален.\")"
   ]
  },
  {
   "cell_type": "code",
   "execution_count": 11,
   "id": "8e59dcc6",
   "metadata": {},
   "outputs": [],
   "source": [
    "def move_document(dirs, doc_number, new_shelf):\n",
    "    \"\"\"Перемещает документ на новую полку.\"\"\"\n",
    "    if new_shelf not in dirs:\n",
    "        print(f\"Ошибка: Полки {new_shelf} не существует.\")\n",
    "        return\n",
    "    shelf = get_shelf_by_document(dirs, doc_number)\n",
    "    if not shelf:\n",
    "        print(\"Документ не найден.\")\n",
    "        return\n",
    "    dirs[shelf].remove(doc_number)\n",
    "    dirs[new_shelf].append(doc_number)\n",
    "    print(\"Документ успешно перемещен.\")"
   ]
  },
  {
   "cell_type": "code",
   "execution_count": 12,
   "id": "af1004fd",
   "metadata": {},
   "outputs": [],
   "source": [
    "def add_shelf(dirs, new_shelf):\n",
    "    \"\"\"Добавляет новую полку.\"\"\"\n",
    "    if new_shelf in dirs:\n",
    "        print(\"Ошибка: Такая полка уже существует.\")\n",
    "        return\n",
    "    dirs[new_shelf] = []\n",
    "    print(\"Полка успешно добавлена.\")"
   ]
  },
  {
   "cell_type": "code",
   "execution_count": 13,
   "id": "2d9243a2",
   "metadata": {},
   "outputs": [],
   "source": [
    "def main():\n",
    "    \"\"\"Основной цикл обработки команд.\"\"\"\n",
    "    print(\"Добро пожаловать в систему управления документами!\")\n",
    "    print(\"Доступные команды:\")\n",
    "    print(\"p - найти владельца документа\")\n",
    "    print(\"s - найти полку документа\")\n",
    "    print(\"l - список всех документов\")\n",
    "    print(\"a - добавить документ\")\n",
    "    print(\"d - удалить документ\")\n",
    "    print(\"m - переместить документ\")\n",
    "    print(\"as - добавить полку\")\n",
    "    print(\"q - выход\")\n",
    "    \n",
    "    while True:\n",
    "        command = input(\"\\nВведите команду: \").strip().lower()\n",
    "        \n",
    "        if command == 'q':\n",
    "            print(\"Выход из программы. До свидания!\")\n",
    "            break\n",
    "            \n",
    "        elif command == 'p':\n",
    "            doc_number = input(\"Введите номер документа: \")\n",
    "            name = get_name_by_document(documents, doc_number)\n",
    "            if name:\n",
    "                print(f\"Владелец документа: {name}\")\n",
    "            else:\n",
    "                print(\"Документ не найден.\")\n",
    "                \n",
    "        elif command == 's':\n",
    "            doc_number = input(\"Введите номер документа: \")\n",
    "            shelf = get_shelf_by_document(directories, doc_number)\n",
    "            if shelf:\n",
    "                print(f\"Документ находится на полке: {shelf}\")\n",
    "            else:\n",
    "                print(\"Документ не найден.\")\n",
    "                \n",
    "        elif command == 'l':\n",
    "            list_documents(documents)\n",
    "            \n",
    "        elif command == 'a':\n",
    "            doc_type = input(\"Введите тип документа: \")\n",
    "            doc_number = input(\"Введите номер документа: \")\n",
    "            name = input(\"Введите имя владельца: \")\n",
    "            shelf = input(\"Введите номер полки для хранения: \")\n",
    "            add_document(documents, directories, doc_type, doc_number, name, shelf)\n",
    "            \n",
    "        elif command == 'd':\n",
    "            doc_number = input(\"Введите номер документа для удаления: \")\n",
    "            delete_document(documents, directories, doc_number)\n",
    "            \n",
    "        elif command == 'm':\n",
    "            doc_number = input(\"Введите номер документа для перемещения: \")\n",
    "            new_shelf = input(\"Введите целевую полку: \")\n",
    "            move_document(directories, doc_number, new_shelf)\n",
    "            \n",
    "        elif command == 'as':\n",
    "            new_shelf = input(\"Введите номер новой полки: \")\n",
    "            add_shelf(directories, new_shelf)\n",
    "            \n",
    "        else:\n",
    "            print(\"Неизвестная команда. Попробуйте снова.\")"
   ]
  },
  {
   "cell_type": "code",
   "execution_count": 14,
   "id": "01be5c22",
   "metadata": {},
   "outputs": [
    {
     "name": "stdout",
     "output_type": "stream",
     "text": [
      "Добро пожаловать в систему управления документами!\n",
      "Доступные команды:\n",
      "p - найти владельца документа\n",
      "s - найти полку документа\n",
      "l - список всех документов\n",
      "a - добавить документ\n",
      "d - удалить документ\n",
      "m - переместить документ\n",
      "as - добавить полку\n",
      "q - выход\n",
      "\n",
      "Введите команду: p\n",
      "Введите номер документа: 10006\n",
      "Владелец документа: Аристарх Павлов\n",
      "\n",
      "Введите команду: q\n",
      "Выход из программы. До свидания!\n"
     ]
    }
   ],
   "source": [
    "if __name__ == \"__main__\":\n",
    "    main()"
   ]
  }
 ],
 "metadata": {
  "kernelspec": {
   "display_name": "Python 3 (ipykernel)",
   "language": "python",
   "name": "python3"
  },
  "language_info": {
   "codemirror_mode": {
    "name": "ipython",
    "version": 3
   },
   "file_extension": ".py",
   "mimetype": "text/x-python",
   "name": "python",
   "nbconvert_exporter": "python",
   "pygments_lexer": "ipython3",
   "version": "3.10.9"
  }
 },
 "nbformat": 4,
 "nbformat_minor": 5
}
