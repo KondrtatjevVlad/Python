{
 "cells": [
  {
   "cell_type": "markdown",
   "id": "279f0e57",
   "metadata": {},
   "source": [
    "## Задание 1"
   ]
  },
  {
   "cell_type": "markdown",
   "id": "cd18195d",
   "metadata": {},
   "source": [
    "Программа выводит на экран объекты типа datetime, соответствующие датам в условии задачи"
   ]
  },
  {
   "cell_type": "markdown",
   "id": "59c60270",
   "metadata": {},
   "source": [
    "Форматы: %A — полное название дня недели, %B — полное название месяца, %d — день месяца (2 цифры), %m — номер месяца, %y — год в виде двух цифр, %Y — год полностью (4 цифры)."
   ]
  },
  {
   "cell_type": "code",
   "execution_count": 14,
   "id": "fc4ec759",
   "metadata": {},
   "outputs": [],
   "source": [
    "from datetime import datetime"
   ]
  },
  {
   "cell_type": "code",
   "execution_count": 15,
   "id": "964c5c5e",
   "metadata": {},
   "outputs": [],
   "source": [
    "# Исходные даты\n",
    "moscow_times = \"Wednesday, October 2, 2002\"\n",
    "guardian = \"Friday, 11.10.13\"\n",
    "daily_news = \"Thursday, 18 August 1977\""
   ]
  },
  {
   "cell_type": "code",
   "execution_count": 16,
   "id": "5455b370",
   "metadata": {},
   "outputs": [
    {
     "name": "stdout",
     "output_type": "stream",
     "text": [
      "2002-10-02 00:00:00\n"
     ]
    },
    {
     "data": {
      "text/plain": [
       "datetime.datetime(2002, 10, 2, 0, 0)"
      ]
     },
     "execution_count": 16,
     "metadata": {},
     "output_type": "execute_result"
    }
   ],
   "source": [
    "# Преобразование в объекты datetime с учётом форматов\n",
    "moscow_dt = datetime.strptime(moscow_times, \"%A, %B %d, %Y\")\n",
    "print(moscow_dt)\n",
    "moscow_dt"
   ]
  },
  {
   "cell_type": "code",
   "execution_count": 17,
   "id": "58fcbf77",
   "metadata": {},
   "outputs": [
    {
     "name": "stdout",
     "output_type": "stream",
     "text": [
      "2013-10-11 00:00:00\n"
     ]
    },
    {
     "data": {
      "text/plain": [
       "datetime.datetime(2013, 10, 11, 0, 0)"
      ]
     },
     "execution_count": 17,
     "metadata": {},
     "output_type": "execute_result"
    }
   ],
   "source": [
    "guardian_dt = datetime.strptime(guardian, \"%A, %d.%m.%y\")\n",
    "print(guardian_dt)\n",
    "guardian_dt"
   ]
  },
  {
   "cell_type": "code",
   "execution_count": 18,
   "id": "a7b583d3",
   "metadata": {},
   "outputs": [
    {
     "name": "stdout",
     "output_type": "stream",
     "text": [
      "1977-08-18 00:00:00\n"
     ]
    },
    {
     "data": {
      "text/plain": [
       "datetime.datetime(1977, 8, 18, 0, 0)"
      ]
     },
     "execution_count": 18,
     "metadata": {},
     "output_type": "execute_result"
    }
   ],
   "source": [
    "daily_news_dt = datetime.strptime(daily_news, \"%A, %d %B %Y\")\n",
    "print(daily_news_dt)\n",
    "daily_news_dt"
   ]
  },
  {
   "cell_type": "markdown",
   "id": "d2e82e57",
   "metadata": {},
   "source": [
    "## Задание 2"
   ]
  },
  {
   "cell_type": "markdown",
   "id": "39e15c6e",
   "metadata": {},
   "source": [
    "Напишите функцию date_range, которая возвращает список дат за период от start_date до end_date. Даты должны вводиться в формате YYYY-MM-DD. В случае неверного формата или при start_date > end_date должен возвращаться пустой список."
   ]
  },
  {
   "cell_type": "code",
   "execution_count": 19,
   "id": "069191ed",
   "metadata": {},
   "outputs": [],
   "source": [
    "from datetime import timedelta"
   ]
  },
  {
   "cell_type": "code",
   "execution_count": 20,
   "id": "7106d4a7",
   "metadata": {},
   "outputs": [],
   "source": [
    "def date_range(start_date, end_date):\n",
    "    try:\n",
    "        # Преобразуем строки в объекты datetime\n",
    "        start = datetime.strptime(start_date, \"%Y-%m-%d\")\n",
    "        end = datetime.strptime(end_date, \"%Y-%m-%d\")\n",
    "    except ValueError:\n",
    "        # Если формат неверный или дата не существует возрврат пустого списка\n",
    "        return []\n",
    "    \n",
    "    if start > end:\n",
    "        return []\n",
    "    \n",
    "    # Генерируем список дат в формате 'YYYY-MM-DD'\n",
    "    date_list = []\n",
    "    current_date = start\n",
    "    while current_date <= end:\n",
    "        date_list.append(current_date.strftime(\"%Y-%m-%d\"))\n",
    "        current_date += timedelta(days=1)\n",
    "    \n",
    "    return date_list"
   ]
  },
  {
   "cell_type": "code",
   "execution_count": 23,
   "id": "534a0d03",
   "metadata": {},
   "outputs": [
    {
     "name": "stdout",
     "output_type": "stream",
     "text": [
      "['2022-01-01', '2022-01-02', '2022-01-03']\n",
      "[]\n",
      "[]\n"
     ]
    }
   ],
   "source": [
    "print(date_range('2022-01-01', '2022-01-03'))\n",
    "print(date_range('2022-01-03', '2022-01-01'))\n",
    "print(date_range('2022-02-30', '2022-02-31'))"
   ]
  }
 ],
 "metadata": {
  "kernelspec": {
   "display_name": "Python 3 (ipykernel)",
   "language": "python",
   "name": "python3"
  },
  "language_info": {
   "codemirror_mode": {
    "name": "ipython",
    "version": 3
   },
   "file_extension": ".py",
   "mimetype": "text/x-python",
   "name": "python",
   "nbconvert_exporter": "python",
   "pygments_lexer": "ipython3",
   "version": "3.10.9"
  }
 },
 "nbformat": 4,
 "nbformat_minor": 5
}
