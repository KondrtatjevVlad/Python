{
 "cells": [
  {
   "cell_type": "markdown",
   "id": "71f4aa95",
   "metadata": {},
   "source": [
    "# Задание 1"
   ]
  },
  {
   "cell_type": "markdown",
   "id": "f3b0f7a7",
   "metadata": {},
   "source": [
    "Написать код на Python в среде Jupyter Notebook для решения следующей задачи.\n",
    "\n",
    "Дана переменная, в которой хранится словарь, содержащий геометки для каждого пользователя\n",
    "(пример структуры данных приведён ниже). Вам нужно написать программу, которая выведет на\n",
    "экран множество уникальных геометок всех пользователей.\n",
    "\n",
    "Пример работы программы:\n",
    "\n",
    "ids = {&apos;user1&apos;: [213, 213, 213, 15, 213],\n",
    "\n",
    "&apos;user2&apos;: [54, 54, 119, 119, 119],\n",
    "\n",
    "&apos;user3&apos;: [213, 98, 98, 35]}\n",
    "\n",
    "Результат: {98, 35, 15, 213, 54, 119}"
   ]
  },
  {
   "cell_type": "code",
   "execution_count": 2,
   "id": "9f162075",
   "metadata": {},
   "outputs": [],
   "source": [
    "from itertools import chain"
   ]
  },
  {
   "cell_type": "code",
   "execution_count": 3,
   "id": "451e83a1",
   "metadata": {},
   "outputs": [],
   "source": [
    "from itertools import chain\n",
    "\n",
    "ids = {'user1': [213, 213, 213, 15, 213],\n",
    "       'user2': [54, 54, 119, 119, 119],\n",
    "       'user3': [213, 98, 98, 35]}"
   ]
  },
  {
   "cell_type": "code",
   "execution_count": 4,
   "id": "280420f9",
   "metadata": {},
   "outputs": [
    {
     "name": "stdout",
     "output_type": "stream",
     "text": [
      "Способ 1 - Результат: {98, 35, 15, 213, 54, 119}\n"
     ]
    }
   ],
   "source": [
    "# Способ 1: Используя множества и цикл\n",
    "unique_geometries = set()\n",
    "for user_geometries in ids.values():\n",
    "    unique_geometries.update(user_geometries)\n",
    "\n",
    "print(\"Способ 1 - Результат:\", unique_geometries)"
   ]
  },
  {
   "cell_type": "code",
   "execution_count": 5,
   "id": "d4ec39b7",
   "metadata": {},
   "outputs": [
    {
     "name": "stdout",
     "output_type": "stream",
     "text": [
      "Способ 2 - Результат: {98, 35, 15, 213, 54, 119}\n"
     ]
    }
   ],
   "source": [
    "# Способ 2: Используя itertools.chain\n",
    "unique_geometries_3 = set(chain.from_iterable(ids.values()))\n",
    "print(\"Способ 2 - Результат:\", unique_geometries_3)"
   ]
  },
  {
   "cell_type": "markdown",
   "id": "d770c832",
   "metadata": {},
   "source": [
    "# Задание 2"
   ]
  },
  {
   "cell_type": "markdown",
   "id": "72bff85b",
   "metadata": {},
   "source": [
    "Написать код на Python в среде Jupyter Notebook для решения следующей задачи.\n",
    "\n",
    "Дана переменная, в которой хранится список поисковых запросов пользователя (пример структуры\n",
    "данных приведён ниже). Вам нужно написать программу, которая выведет на экран распределение\n",
    "количества слов в запросах в требуемом виде.\n",
    "\n",
    "Пример работы программы:\n",
    "    \n",
    "queries = [\n",
    "&apos;смотреть сериалы онлайн&apos;,\n",
    "&apos;новости спорта&apos;,\n",
    "&apos;афиша кино&apos;,\n",
    "&apos;курс доллара&apos;,\n",
    "&apos;сериалы этим летом&apos;,\n",
    "&apos;курс по питону&apos;,\n",
    "&apos;сериалы про спорт&apos;,\n",
    "]\n",
    "\n",
    "Результат:\n",
    "    \n",
    "Поисковых запросов, содержащих 2 слов(а): 42.86%\n",
    "\n",
    "Поисковых запросов, содержащих 3 слов(а): 57.14%"
   ]
  },
  {
   "cell_type": "code",
   "execution_count": 6,
   "id": "172fae80",
   "metadata": {},
   "outputs": [],
   "source": [
    "from collections import Counter\n",
    "\n",
    "queries = [\n",
    "    'смотреть сериалы онлайн',\n",
    "    'новости спорта',\n",
    "    'афиша кино',\n",
    "    'курс доллара',\n",
    "    'сериалы этим летом',\n",
    "    'курс по питону',\n",
    "    'сериалы про спорт',\n",
    "]"
   ]
  },
  {
   "cell_type": "code",
   "execution_count": 7,
   "id": "8dc1ad6f",
   "metadata": {},
   "outputs": [],
   "source": [
    "# Подсчет количества запросов по числу слов с помощью Counter\n",
    "word_counts = Counter(len(query.split()) for query in queries)"
   ]
  },
  {
   "cell_type": "code",
   "execution_count": 8,
   "id": "ab91171e",
   "metadata": {},
   "outputs": [
    {
     "name": "stdout",
     "output_type": "stream",
     "text": [
      "Поисковых запросов, содержащих 2 слов(а): 42.86%\n",
      "Поисковых запросов, содержащих 3 слов(а): 57.14%\n"
     ]
    }
   ],
   "source": [
    "# Вывод результата\n",
    "total_queries = len(queries)\n",
    "for word_count, count in sorted(word_counts.items()):\n",
    "    percentage = (count / total_queries) * 100\n",
    "    print(f\"Поисковых запросов, содержащих {word_count} слов(а): {percentage:.2f}%\")"
   ]
  }
 ],
 "metadata": {
  "kernelspec": {
   "display_name": "Python 3 (ipykernel)",
   "language": "python",
   "name": "python3"
  },
  "language_info": {
   "codemirror_mode": {
    "name": "ipython",
    "version": 3
   },
   "file_extension": ".py",
   "mimetype": "text/x-python",
   "name": "python",
   "nbconvert_exporter": "python",
   "pygments_lexer": "ipython3",
   "version": "3.10.9"
  }
 },
 "nbformat": 4,
 "nbformat_minor": 5
}
